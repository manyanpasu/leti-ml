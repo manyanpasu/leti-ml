{
 "cells": [
  {
   "cell_type": "code",
   "execution_count": 1,
   "id": "4768a32b-b5c6-42c3-bef2-1b7db0d0829f",
   "metadata": {},
   "outputs": [],
   "source": [
    "import numpy as np         # библиотека для матриц и математики\n",
    "import pandas as pd        # библиотека для работы с табличками\n",
    "from scipy import stats    # модуль для работы со статистикой\n",
    "\n",
    "import matplotlib.pyplot as plt\n",
    "import seaborn as sns\n",
    "\n",
    "# стиль графиков\n",
    "plt.style.use('ggplot')\n",
    "# plt.style.use('fivethirtyeight')\n",
    "%matplotlib inline"
   ]
  },
  {
   "cell_type": "markdown",
   "id": "f9519c2e-9f8f-4699-846f-1830523bdf47",
   "metadata": {},
   "source": [
    "## О данных"
   ]
  },
  {
   "cell_type": "markdown",
   "id": "81ffea0b-4993-4422-aa28-ffb91e7deeb4",
   "metadata": {},
   "source": [
    "https://data.mendeley.com/datasets/3t9vbwxgr5/2"
   ]
  },
  {
   "cell_type": "markdown",
   "id": "ca50ecef-1536-426c-be8d-2275dfd5ba3a",
   "metadata": {},
   "source": [
    "Этот набор данных содержит список текстов песен с 1950 по 2019 год, описывающих музыкальные метаданные как грусть, танцевальность, громкость, акустичность и т. д. Также предоставлены тексты песен, которые можно использовать для обработки естественного языка.\n",
    "\n",
    "Аудиоданные были очищены с помощью интегрированного движка Echo Nest® API с пакетом Spotipy Python. Spotipy API позволяет пользователю искать определенные жанры, исполнителей, песни, дату выпуска и т. д. Чтобы получить тексты песен, использованф API Lyrics Genius® в качестве базового URL-адреса для запроса данных на основе названия песни и имени исполнителя."
   ]
  },
  {
   "cell_type": "code",
   "execution_count": 2,
   "id": "444e6ff8-2aa2-4e19-b112-4c0f23e06342",
   "metadata": {},
   "outputs": [
    {
     "name": "stdout",
     "output_type": "stream",
     "text": [
      "(28372, 31)\n"
     ]
    },
    {
     "data": {
      "text/html": [
       "<div>\n",
       "<style scoped>\n",
       "    .dataframe tbody tr th:only-of-type {\n",
       "        vertical-align: middle;\n",
       "    }\n",
       "\n",
       "    .dataframe tbody tr th {\n",
       "        vertical-align: top;\n",
       "    }\n",
       "\n",
       "    .dataframe thead th {\n",
       "        text-align: right;\n",
       "    }\n",
       "</style>\n",
       "<table border=\"1\" class=\"dataframe\">\n",
       "  <thead>\n",
       "    <tr style=\"text-align: right;\">\n",
       "      <th></th>\n",
       "      <th>Unnamed: 0</th>\n",
       "      <th>artist_name</th>\n",
       "      <th>track_name</th>\n",
       "      <th>release_date</th>\n",
       "      <th>genre</th>\n",
       "      <th>lyrics</th>\n",
       "      <th>len</th>\n",
       "      <th>dating</th>\n",
       "      <th>violence</th>\n",
       "      <th>world/life</th>\n",
       "      <th>...</th>\n",
       "      <th>sadness</th>\n",
       "      <th>feelings</th>\n",
       "      <th>danceability</th>\n",
       "      <th>loudness</th>\n",
       "      <th>acousticness</th>\n",
       "      <th>instrumentalness</th>\n",
       "      <th>valence</th>\n",
       "      <th>energy</th>\n",
       "      <th>topic</th>\n",
       "      <th>age</th>\n",
       "    </tr>\n",
       "  </thead>\n",
       "  <tbody>\n",
       "    <tr>\n",
       "      <th>0</th>\n",
       "      <td>0</td>\n",
       "      <td>mukesh</td>\n",
       "      <td>mohabbat bhi jhoothi</td>\n",
       "      <td>1950</td>\n",
       "      <td>pop</td>\n",
       "      <td>hold time feel break feel untrue convince spea...</td>\n",
       "      <td>95</td>\n",
       "      <td>0.000598</td>\n",
       "      <td>0.063746</td>\n",
       "      <td>0.000598</td>\n",
       "      <td>...</td>\n",
       "      <td>0.380299</td>\n",
       "      <td>0.117175</td>\n",
       "      <td>0.357739</td>\n",
       "      <td>0.454119</td>\n",
       "      <td>0.997992</td>\n",
       "      <td>0.901822</td>\n",
       "      <td>0.339448</td>\n",
       "      <td>0.137110</td>\n",
       "      <td>sadness</td>\n",
       "      <td>1.0</td>\n",
       "    </tr>\n",
       "    <tr>\n",
       "      <th>1</th>\n",
       "      <td>4</td>\n",
       "      <td>frankie laine</td>\n",
       "      <td>i believe</td>\n",
       "      <td>1950</td>\n",
       "      <td>pop</td>\n",
       "      <td>believe drop rain fall grow believe darkest ni...</td>\n",
       "      <td>51</td>\n",
       "      <td>0.035537</td>\n",
       "      <td>0.096777</td>\n",
       "      <td>0.443435</td>\n",
       "      <td>...</td>\n",
       "      <td>0.001284</td>\n",
       "      <td>0.001284</td>\n",
       "      <td>0.331745</td>\n",
       "      <td>0.647540</td>\n",
       "      <td>0.954819</td>\n",
       "      <td>0.000002</td>\n",
       "      <td>0.325021</td>\n",
       "      <td>0.263240</td>\n",
       "      <td>world/life</td>\n",
       "      <td>1.0</td>\n",
       "    </tr>\n",
       "    <tr>\n",
       "      <th>2</th>\n",
       "      <td>6</td>\n",
       "      <td>johnnie ray</td>\n",
       "      <td>cry</td>\n",
       "      <td>1950</td>\n",
       "      <td>pop</td>\n",
       "      <td>sweetheart send letter goodbye secret feel bet...</td>\n",
       "      <td>24</td>\n",
       "      <td>0.002770</td>\n",
       "      <td>0.002770</td>\n",
       "      <td>0.002770</td>\n",
       "      <td>...</td>\n",
       "      <td>0.002770</td>\n",
       "      <td>0.225422</td>\n",
       "      <td>0.456298</td>\n",
       "      <td>0.585288</td>\n",
       "      <td>0.840361</td>\n",
       "      <td>0.000000</td>\n",
       "      <td>0.351814</td>\n",
       "      <td>0.139112</td>\n",
       "      <td>music</td>\n",
       "      <td>1.0</td>\n",
       "    </tr>\n",
       "    <tr>\n",
       "      <th>3</th>\n",
       "      <td>10</td>\n",
       "      <td>pérez prado</td>\n",
       "      <td>patricia</td>\n",
       "      <td>1950</td>\n",
       "      <td>pop</td>\n",
       "      <td>kiss lips want stroll charm mambo chacha merin...</td>\n",
       "      <td>54</td>\n",
       "      <td>0.048249</td>\n",
       "      <td>0.001548</td>\n",
       "      <td>0.001548</td>\n",
       "      <td>...</td>\n",
       "      <td>0.225889</td>\n",
       "      <td>0.001548</td>\n",
       "      <td>0.686992</td>\n",
       "      <td>0.744404</td>\n",
       "      <td>0.083935</td>\n",
       "      <td>0.199393</td>\n",
       "      <td>0.775350</td>\n",
       "      <td>0.743736</td>\n",
       "      <td>romantic</td>\n",
       "      <td>1.0</td>\n",
       "    </tr>\n",
       "    <tr>\n",
       "      <th>4</th>\n",
       "      <td>12</td>\n",
       "      <td>giorgos papadopoulos</td>\n",
       "      <td>apopse eida oneiro</td>\n",
       "      <td>1950</td>\n",
       "      <td>pop</td>\n",
       "      <td>till darling till matter know till dream live ...</td>\n",
       "      <td>48</td>\n",
       "      <td>0.001350</td>\n",
       "      <td>0.001350</td>\n",
       "      <td>0.417772</td>\n",
       "      <td>...</td>\n",
       "      <td>0.068800</td>\n",
       "      <td>0.001350</td>\n",
       "      <td>0.291671</td>\n",
       "      <td>0.646489</td>\n",
       "      <td>0.975904</td>\n",
       "      <td>0.000246</td>\n",
       "      <td>0.597073</td>\n",
       "      <td>0.394375</td>\n",
       "      <td>romantic</td>\n",
       "      <td>1.0</td>\n",
       "    </tr>\n",
       "  </tbody>\n",
       "</table>\n",
       "<p>5 rows × 31 columns</p>\n",
       "</div>"
      ],
      "text/plain": [
       "   Unnamed: 0           artist_name            track_name  release_date genre  \\\n",
       "0           0                mukesh  mohabbat bhi jhoothi          1950   pop   \n",
       "1           4         frankie laine             i believe          1950   pop   \n",
       "2           6           johnnie ray                   cry          1950   pop   \n",
       "3          10           pérez prado              patricia          1950   pop   \n",
       "4          12  giorgos papadopoulos    apopse eida oneiro          1950   pop   \n",
       "\n",
       "                                              lyrics  len    dating  violence  \\\n",
       "0  hold time feel break feel untrue convince spea...   95  0.000598  0.063746   \n",
       "1  believe drop rain fall grow believe darkest ni...   51  0.035537  0.096777   \n",
       "2  sweetheart send letter goodbye secret feel bet...   24  0.002770  0.002770   \n",
       "3  kiss lips want stroll charm mambo chacha merin...   54  0.048249  0.001548   \n",
       "4  till darling till matter know till dream live ...   48  0.001350  0.001350   \n",
       "\n",
       "   world/life  ...   sadness  feelings  danceability  loudness  acousticness  \\\n",
       "0    0.000598  ...  0.380299  0.117175      0.357739  0.454119      0.997992   \n",
       "1    0.443435  ...  0.001284  0.001284      0.331745  0.647540      0.954819   \n",
       "2    0.002770  ...  0.002770  0.225422      0.456298  0.585288      0.840361   \n",
       "3    0.001548  ...  0.225889  0.001548      0.686992  0.744404      0.083935   \n",
       "4    0.417772  ...  0.068800  0.001350      0.291671  0.646489      0.975904   \n",
       "\n",
       "   instrumentalness   valence    energy       topic  age  \n",
       "0          0.901822  0.339448  0.137110     sadness  1.0  \n",
       "1          0.000002  0.325021  0.263240  world/life  1.0  \n",
       "2          0.000000  0.351814  0.139112       music  1.0  \n",
       "3          0.199393  0.775350  0.743736    romantic  1.0  \n",
       "4          0.000246  0.597073  0.394375    romantic  1.0  \n",
       "\n",
       "[5 rows x 31 columns]"
      ]
     },
     "execution_count": 2,
     "metadata": {},
     "output_type": "execute_result"
    }
   ],
   "source": [
    "df = pd.read_csv('tcc_ceds_music.csv', index_col=False, engine='python')\n",
    "\n",
    "print(df.shape)\n",
    "df.head()"
   ]
  },
  {
   "cell_type": "markdown",
   "id": "a063b49a-c8de-4fd9-8cdd-f6c66eee07a8",
   "metadata": {},
   "source": [
    "В роли целевого класса выберем атрибут жанра."
   ]
  },
  {
   "cell_type": "code",
   "execution_count": 3,
   "id": "93af48cc-bfb2-4462-a222-5e842798d453",
   "metadata": {},
   "outputs": [],
   "source": [
    "df.drop(\"Unnamed: 0\", axis=1, inplace=True)"
   ]
  },
  {
   "cell_type": "code",
   "execution_count": 4,
   "id": "11943c49-20d2-41ad-a457-acc56bd84070",
   "metadata": {},
   "outputs": [
    {
     "name": "stdout",
     "output_type": "stream",
     "text": [
      "genre\n",
      "pop        7042\n",
      "country    5445\n",
      "blues      4604\n",
      "rock       4034\n",
      "jazz       3845\n",
      "reggae     2498\n",
      "hip hop     904\n",
      "Name: count, dtype: int64\n"
     ]
    }
   ],
   "source": [
    "# Подсчет количества записей для каждого уникального значения атрибута\n",
    "class_counts = df['genre'].value_counts()\n",
    "print(class_counts)"
   ]
  },
  {
   "cell_type": "code",
   "execution_count": 5,
   "id": "b5c780a7-05dc-4f94-b28f-f51bd0762a8e",
   "metadata": {},
   "outputs": [
    {
     "data": {
      "image/png": "[encoded data removed]",
      "text/plain": [
       "<Figure size 1000x600 with 1 Axes>"
      ]
     },
     "metadata": {},
     "output_type": "display_data"
    }
   ],
   "source": [
    "import matplotlib.pyplot as plt\n",
    "\n",
    "# Построение столбчатой диаграммы для визуализации баланса классов\n",
    "plt.figure(figsize=(10, 6))\n",
    "class_counts.plot(kind='bar', color='skyblue')\n",
    "plt.xlabel('Class Labels')\n",
    "plt.ylabel('Counts')\n",
    "plt.title('Class Distribution in the Dataset')\n",
    "plt.grid(True)\n",
    "plt.show()"
   ]
  },
  {
   "cell_type": "code",
   "execution_count": 6,
   "id": "1c25da85-1d61-4f45-8dd3-7a3afa6d4ab1",
   "metadata": {},
   "outputs": [],
   "source": [
    "features = ['dating', 'violence', 'world/life', 'night/time',\n",
    "       'shake the audience', 'family/gospel', 'romantic', 'communication',\n",
    "       'obscene', 'music', 'movement/places', 'light/visual perceptions',\n",
    "       'family/spiritual', 'like/girls', 'sadness', 'feelings', 'danceability',\n",
    "       'loudness', 'acousticness', 'instrumentalness', 'valence', 'energy']"
   ]
  },
  {
   "cell_type": "code",
   "execution_count": 7,
   "id": "0c3db163-3c17-451a-a2a6-2f70eb1195fb",
   "metadata": {},
   "outputs": [
    {
     "name": "stdout",
     "output_type": "stream",
     "text": [
      "Средняя точность kNN: 0.33\n",
      "Средняя точность дерева решений: 0.30\n"
     ]
    }
   ],
   "source": [
    "from sklearn.model_selection import cross_val_score, StratifiedKFold\n",
    "from sklearn.neighbors import KNeighborsClassifier\n",
    "from sklearn.tree import DecisionTreeClassifier\n",
    "\n",
    "X = df[features]\n",
    "y = df['genre']\n",
    "\n",
    "# Определение моделей c учетом дисбаланса классов\n",
    "knn = KNeighborsClassifier(weights='distance')\n",
    "tree = DecisionTreeClassifier(class_weight='balanced')\n",
    "\n",
    "# Определение кросс-валидации\n",
    "stratified_k_fold = StratifiedKFold(n_splits=5, shuffle=True, random_state=42)\n",
    "\n",
    "# Применение кросс-валидации для моделей\n",
    "knn_scores = cross_val_score(knn, X, y, cv=stratified_k_fold, scoring='accuracy')\n",
    "tree_scores = cross_val_score(tree, X, y, cv=stratified_k_fold, scoring='accuracy')\n",
    "\n",
    "# Вывод результатов\n",
    "print(f\"Средняя точность kNN: {knn_scores.mean():.2f}\")\n",
    "print(f\"Средняя точность дерева решений: {tree_scores.mean():.2f}\")"
   ]
  },
  {
   "cell_type": "code",
   "execution_count": 8,
   "id": "66549fcc-ff81-4d48-a376-2af99d95f402",
   "metadata": {},
   "outputs": [
    {
     "name": "stdout",
     "output_type": "stream",
     "text": [
      "Метрики для kNN:\n",
      "Precision: 0.32\n",
      "Recall: 0.33\n",
      "F1-score: 0.32\n",
      "\n",
      "Метрики для дерева решений:\n",
      "Precision: 0.30\n",
      "Recall: 0.30\n",
      "F1-score: 0.30\n"
     ]
    }
   ],
   "source": [
    "from sklearn.metrics import precision_score, recall_score, f1_score, roc_auc_score\n",
    "from sklearn.model_selection import cross_val_predict\n",
    "\n",
    "# Для kNN\n",
    "knn_pred = cross_val_predict(knn, X, y, cv=stratified_k_fold)\n",
    "knn_precision = precision_score(y, knn_pred, average='weighted')\n",
    "knn_recall = recall_score(y, knn_pred, average='weighted')\n",
    "knn_f1 = f1_score(y, knn_pred, average='weighted')\n",
    "\n",
    "# Для дерева решений\n",
    "tree_pred = cross_val_predict(tree, X, y, cv=stratified_k_fold)\n",
    "tree_precision = precision_score(y, tree_pred, average='weighted')\n",
    "tree_recall = recall_score(y, tree_pred, average='weighted')\n",
    "tree_f1 = f1_score(y, tree_pred, average='weighted')\n",
    "\n",
    "# Вывод результатов\n",
    "print(\"Метрики для kNN:\")\n",
    "print(f\"Precision: {knn_precision:.2f}\")\n",
    "print(f\"Recall: {knn_recall:.2f}\")\n",
    "print(f\"F1-score: {knn_f1:.2f}\")\n",
    "\n",
    "print(\"\\nМетрики для дерева решений:\")\n",
    "print(f\"Precision: {tree_precision:.2f}\")\n",
    "print(f\"Recall: {tree_recall:.2f}\")\n",
    "print(f\"F1-score: {tree_f1:.2f}\")"
   ]
  },
  {
   "cell_type": "code",
   "execution_count": 9,
   "id": "bd9175ac-4f68-48f5-8ae2-5bc740879c34",
   "metadata": {},
   "outputs": [
    {
     "name": "stdout",
     "output_type": "stream",
     "text": [
      "ROC-AUC для класса 0: 0.58 (kNN)\n",
      "ROC-AUC для класса 0: 0.55 (Дерево решений)\n",
      "ROC-AUC для класса 1: 0.69 (kNN)\n",
      "ROC-AUC для класса 1: 0.59 (Дерево решений)\n",
      "ROC-AUC для класса 2: 0.78 (kNN)\n",
      "ROC-AUC для класса 2: 0.65 (Дерево решений)\n",
      "ROC-AUC для класса 3: 0.69 (kNN)\n",
      "ROC-AUC для класса 3: 0.60 (Дерево решений)\n",
      "ROC-AUC для класса 4: 0.58 (kNN)\n",
      "ROC-AUC для класса 4: 0.54 (Дерево решений)\n",
      "ROC-AUC для класса 5: 0.75 (kNN)\n",
      "ROC-AUC для класса 5: 0.63 (Дерево решений)\n",
      "ROC-AUC для класса 6: 0.67 (kNN)\n",
      "ROC-AUC для класса 6: 0.57 (Дерево решений)\n"
     ]
    }
   ],
   "source": [
    "from sklearn.preprocessing import label_binarize\n",
    "from sklearn.metrics import roc_curve, auc\n",
    "import numpy as np\n",
    "\n",
    "# Бинаризация меток классов\n",
    "y_bin = label_binarize(y, classes=np.unique(y))\n",
    "\n",
    "n_classes = y_bin.shape[1]\n",
    "\n",
    "# Применение кросс-валидации и получение предсказаний вероятностей для каждого класса\n",
    "knn_proba = cross_val_predict(knn, X, y, cv=stratified_k_fold, method='predict_proba')\n",
    "tree_proba = cross_val_predict(tree, X, y, cv=stratified_k_fold, method='predict_proba')\n",
    "\n",
    "# Вычисление ROC-кривых и AUC-ROC для каждого класса\n",
    "for i in range(n_classes):\n",
    "    fpr, tpr, _ = roc_curve(y_bin[:, i], knn_proba[:, i])\n",
    "    roc_auc = auc(fpr, tpr)\n",
    "    print(f\"ROC-AUC для класса {i}: {roc_auc:.2f} (kNN)\")\n",
    "\n",
    "    fpr, tpr, _ = roc_curve(y_bin[:, i], tree_proba[:, i])\n",
    "    roc_auc = auc(fpr, tpr)\n",
    "    print(f\"ROC-AUC для класса {i}: {roc_auc:.2f} (Дерево решений)\")"
   ]
  },
  {
   "cell_type": "markdown",
   "id": "db4fc3f5-fa80-4951-b09c-45db303927e3",
   "metadata": {},
   "source": [
    "## Выводы\n",
    "\n",
    "На основе полученных метрик можно сделать следующие выводы:стальных."
   ]
  },
  {
   "cell_type": "markdown",
   "id": "94190b30-94fe-4ad8-8db4-25be00ad1472",
   "metadata": {},
   "source": [
    "### Precision, Recall, F1-score:\n",
    "\n",
    "У kNN и дерева решений примерно одинаковые значения для Precision, Recall и F1-score. Эти метрики иемонстрируют схожую способность обеих моделей к правильной классификации.\n",
    "Средние значения указывают на то, что модели не ошибаются лишь в 30% процентах случаев, что может означать, что определить жанр по предоставленным характеристикам очень сложно.\n",
    "\n",
    "### ROC-AUC:\n",
    "\n",
    "ROC-AUC является мерой качества бинарной классификации. Когда рассматривается многоклассовая классификация, то есть ROC-AUC для каждого класса (один против всех). \n",
    "Более высокое значение ROC-AUC указывает на то, что соответствующая модель лучше разделяет этот класс от всех остальных. Более высокие значения у kNN модели."
   ]
  },
  {
   "cell_type": "markdown",
   "id": "4e9619db-9b9e-4732-9597-c75c3d65064d",
   "metadata": {},
   "source": [
    "### Выбор модели:\r\n",
    "\r\n",
    "Если важна высокая разделимость каждого отдельного класса, то kNN в данном случае демонстрирует лучшие результаты по метрике ROC-AUC для большинства классо улучшены."
   ]
  },
  {
   "cell_type": "markdown",
   "id": "cb4cdcef-d2a2-4d8f-9781-73666fb5170d",
   "metadata": {},
   "source": [
    "\n",
    "### Оптимизация моделей:\n",
    "Можно попытаться оптимизировать параметры моделей, например, изменить количество соседей для kNN или настроить глубину дерева для дерева решений. \n",
    "Также можно рассмотреть использование других алгоритмов классификации или комбинацию моделей (ансамблевые методы) для улучшения общего качества классификации."
   ]
  },
  {
   "cell_type": "markdown",
   "id": "4cd1a5c4-1d9f-4d75-934a-c37fe7683337",
   "metadata": {},
   "source": [
    "\n",
    "### Интерпретация результатов:\n",
    "Помимо метрик, также стоит рассмотреть конкретные ошибки, которые делают модели. Это может помочь в понимании того, в каких случаях модели ошибаются и какие аспекты данных могут быть улучшены."
   ]
  }
 ],
 "metadata": {
  "kernelspec": {
   "display_name": "Python 3 (ipykernel)",
   "language": "python",
   "name": "python3"
  },
  "language_info": {
   "codemirror_mode": {
    "name": "ipython",
    "version": 3
   },
   "file_extension": ".py",
   "mimetype": "text/x-python",
   "name": "python",
   "nbconvert_exporter": "python",
   "pygments_lexer": "ipython3",
   "version": "3.12.0"
  }
 },
 "nbformat": 4,
 "nbformat_minor": 5
}
